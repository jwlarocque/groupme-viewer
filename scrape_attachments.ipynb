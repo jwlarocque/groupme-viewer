{
 "cells": [
  {
   "cell_type": "code",
   "execution_count": null,
   "metadata": {},
   "outputs": [],
   "source": [
    "# There's a gap between the oldest images available via takeout and the\n",
    "# oldest actually still stored by groupme.  Rectify this.\n",
    "\n",
    "import os"
   ]
  },
  {
   "cell_type": "code",
   "execution_count": null,
   "metadata": {},
   "outputs": [],
   "source": [
    "def image_url_to_gallery_filename(chat_id, message_id, image_url):\n",
    "    res, ext, id = image_url.split('/')[-1].split('.')\n",
    "    return os.path.join('./data', str(chat_id), 'gallery', f'{message_id}_{res}.{id}.{ext}')\n",
    "\n",
    "def video_url_to_gallery_filename(chat_id, message_id, video_url):\n",
    "    id, res, ext = video_url.split('/')[-1].split('.')\n",
    "    return os.path.join('./data', str(chat_id), 'gallery', f'{message_id}_{id}.{res}.{ext}')"
   ]
  },
  {
   "cell_type": "code",
   "execution_count": null,
   "metadata": {},
   "outputs": [],
   "source": [
    "# for each dir in ./data, scrape the message.json file for all attachments\n",
    "\n",
    "import json\n",
    "\n",
    "missing_attachments = []\n",
    "found = 0\n",
    "missing = 0\n",
    "\n",
    "for chat in os.listdir('./data'):\n",
    "    chat_dir = os.path.join('./data', chat)\n",
    "    if not os.path.isdir(chat_dir):\n",
    "        continue\n",
    "    message_json = os.path.join(chat_dir, 'message.json')\n",
    "    if not os.path.isfile(message_json):\n",
    "        continue\n",
    "    with open(message_json) as f:\n",
    "        messages = json.load(f)\n",
    "        for message in messages:\n",
    "            for attachment in message['attachments'] or []:\n",
    "                filename = \"unknown\"\n",
    "                if attachment['type'] == 'image':\n",
    "                    # attachment_urls.append(attachment['url'])\n",
    "                    filename = image_url_to_gallery_filename(chat, message['id'], attachment['url'])\n",
    "                elif attachment['type'] == 'video':\n",
    "                    filename = video_url_to_gallery_filename(chat, message['id'], attachment['url'])\n",
    "                else:\n",
    "                    continue\n",
    "                if os.path.isfile(filename):\n",
    "                    print(filename)\n",
    "                    found += 1\n",
    "                else:\n",
    "                    print(f'Missing {attachment}')\n",
    "                    missing_attachments.append({\"original\": attachment, \"expected_filename\": filename})\n",
    "                    missing += 1\n",
    "print(f'Found {found} images, missing {missing}')"
   ]
  },
  {
   "cell_type": "code",
   "execution_count": null,
   "metadata": {},
   "outputs": [],
   "source": [
    "import requests\n",
    "\n",
    "succeeded = 0\n",
    "\n",
    "for missing in missing_attachments:\n",
    "    if \"original\" not in missing.keys() or \"url\" not in missing[\"original\"].keys():\n",
    "        print(f\"Missing expected key in {missing}\")\n",
    "        continue\n",
    "    print(missing[\"original\"][\"url\"], \"->\", missing[\"expected_filename\"])\n",
    "    resp = requests.get(missing[\"original\"]['url'])\n",
    "    if resp.status_code == 200:\n",
    "        with open(missing[\"expected_filename\"], 'wb') as handler:\n",
    "            handler.write(resp.content)\n",
    "            succeeded += 1\n",
    "            print(\"\\tDone\")\n",
    "    else:\n",
    "        print(f\"\\tError {resp.status_code}\")"
   ]
  }
 ],
 "metadata": {
  "kernelspec": {
   "display_name": "Python 3 (ipykernel)",
   "language": "python",
   "name": "python3"
  },
  "language_info": {
   "codemirror_mode": {
    "name": "ipython",
    "version": 3
   },
   "file_extension": ".py",
   "mimetype": "text/x-python",
   "name": "python",
   "nbconvert_exporter": "python",
   "pygments_lexer": "ipython3",
   "version": "3.13.1"
  }
 },
 "nbformat": 4,
 "nbformat_minor": 4
}
